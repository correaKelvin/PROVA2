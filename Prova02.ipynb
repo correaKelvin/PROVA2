{
 "cells": [
  {
   "cell_type": "code",
   "execution_count": 45,
   "id": "422befb3-bfe0-461f-adcb-fe15d75a44a9",
   "metadata": {},
   "outputs": [],
   "source": [
    "import math\n",
    "\n",
    "consumo_diario = [50, 45, 55, 60, 48, 52, 47, 49, 53, 51, 50, 46, 54, 61, 49, 53, 48, 50, 52, 47, 56, 50, 55, 60, 48, 52, 47, 49, 53, 51]\n",
    "\n",
    "consumo_medio = consumo(lista) / 30\n",
    "\n"
   ]
  },
  {
   "cell_type": "code",
   "execution_count": 46,
   "id": "ccfb9a8f-29e7-4525-a24d-826df0b2aaa5",
   "metadata": {},
   "outputs": [],
   "source": [
    "def consumo(lista):\n",
    "    contagem_kwh = 0\n",
    "    for i in consumo_diario:\n",
    "        contagem_kwh += i\n",
    "        return float(contagem_kwh)\n",
    "\n"
   ]
  },
  {
   "cell_type": "code",
   "execution_count": 47,
   "id": "38f94763-3110-4d24-afbf-6ec0b540cdf5",
   "metadata": {},
   "outputs": [
    {
     "name": "stdout",
     "output_type": "stream",
     "text": [
      "O consumo diário médio foi: 50.0\n"
     ]
    }
   ],
   "source": [
    "print(f\"O consumo diário médio foi: {consumo(lista)}\")"
   ]
  },
  {
   "cell_type": "code",
   "execution_count": 49,
   "id": "1cad4a25-bd58-4c19-9e97-d8071156ef25",
   "metadata": {},
   "outputs": [
    {
     "data": {
      "text/plain": [
       "1541"
      ]
     },
     "execution_count": 49,
     "metadata": {},
     "output_type": "execute_result"
    }
   ],
   "source": [
    "50 + 45 + 55 + 60 + 48 + 52 + 47 + 49 + 53 + 51 + 50 + 46 + 54 + 61 + 49 + 53 + 48 + 50 + 52 + 47 + 56 + 50 + 55 + 60 + 48 + 52 + 47 + 49 + 53 + 51\n"
   ]
  },
  {
   "cell_type": "code",
   "execution_count": 50,
   "id": "3b8e1ae5-c627-445d-9790-63ab48d2586e",
   "metadata": {},
   "outputs": [
    {
     "data": {
      "text/plain": [
       "51.36666666666667"
      ]
     },
     "execution_count": 50,
     "metadata": {},
     "output_type": "execute_result"
    }
   ],
   "source": [
    "1541 / 30\n"
   ]
  },
  {
   "cell_type": "code",
   "execution_count": null,
   "id": "4373fc3c-bf2b-42e1-8638-66c88f343975",
   "metadata": {},
   "outputs": [],
   "source": [
    "# Me desculpe professor, mas é o máximo que consegui."
   ]
  }
 ],
 "metadata": {
  "kernelspec": {
   "display_name": "Python 3 (ipykernel)",
   "language": "python",
   "name": "python3"
  },
  "language_info": {
   "codemirror_mode": {
    "name": "ipython",
    "version": 3
   },
   "file_extension": ".py",
   "mimetype": "text/x-python",
   "name": "python",
   "nbconvert_exporter": "python",
   "pygments_lexer": "ipython3",
   "version": "3.12.4"
  }
 },
 "nbformat": 4,
 "nbformat_minor": 5
}
